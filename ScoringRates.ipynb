{
 "cells": [
  {
   "cell_type": "code",
   "execution_count": null,
   "metadata": {},
   "outputs": [],
   "source": [
    "import pandas as pd \n",
    "import numpy as np"
   ]
  },
  {
   "cell_type": "code",
   "execution_count": null,
   "metadata": {},
   "outputs": [],
   "source": [
    "againstEmpty = pd.read_csv('playAgainstEmptyNet.csv')\n",
    "withEmpty = pd.read_csv('playWithEmptyNet.csv')\n",
    "teamStats = pd.read_csv('teamStats.csv')\n",
    "pullStats = pd.read_csv('pullStats.csv')"
   ]
  },
  {
   "cell_type": "code",
   "execution_count": null,
   "metadata": {},
   "outputs": [],
   "source": [
    "teamStats['Team'] = withEmpty['Team']\n",
    "teamStats['Team'] = teamStats['Team'].fillna('LEAGUE')\n",
    "teamStats = teamStats.drop(['AvAge', ], axis=1)\n",
    "teamStats = teamStats[[\"Team\", \"GP\", \"GF\", \"GA\",\"PIM/G\",\"oPIM/G\", \"PP\", \"PPA\"]]"
   ]
  },
  {
   "cell_type": "code",
   "execution_count": 18,
   "metadata": {},
   "outputs": [],
   "source": [
    "def optimalPullTime(teamA,teamB):\n",
    "\n",
    "    def evenSR(a,b):\n",
    "        AGoalsPerGame = (teamStats.iloc[a][\"GF\"]- teamStats.iloc[a][\"PP\"])/teamStats.iloc[a][\"GP\"]\n",
    "        BDefenseRatio = (teamStats.iloc[b][\"GA\"] - teamStats.iloc[b][\"PPA\"])/(teamStats.iloc[31][\"GA\"] - teamStats.iloc[31][\"PPA\"])\n",
    "        print('Even Expected goals', (BDefenseRatio*AGoalsPerGame))\n",
    "        print('Scoring Rate', (BDefenseRatio*AGoalsPerGame)/(60 - teamStats.iloc[a][\"PIM/G\"] - teamStats.iloc[a][\"oPIM/G\"]))\n",
    "        return (BDefenseRatio*AGoalsPerGame)/(60 - teamStats.iloc[a][\"PIM/G\"] - teamStats.iloc[a][\"oPIM/G\"])\n",
    "\n",
    "    def APullSR(a,b):\n",
    "        AGoalsPerGame = withEmpty.iloc[a][\"Scored\"]/withEmpty.iloc[a][\"Count\"]\n",
    "        BDefenseRatio = (againstEmpty.iloc[b][\"Allowed\"]/againstEmpty.iloc[b][\"Count\"])/(againstEmpty[\"Allowed\"]/againstEmpty[\"Count\"]).mean()\n",
    "        if BDefenseRatio == 0:\n",
    "            BDefenseRatio = (0.1/againstEmpty.iloc[b][\"Count\"])/(againstEmpty[\"Allowed\"]/againstEmpty[\"Count\"]).mean()\n",
    "        print(\"Expected # of Goals\", BDefenseRatio*AGoalsPerGame)\n",
    "        print(\"Scoring Rate\",BDefenseRatio*AGoalsPerGame/pullStats.iloc[a][\"avgPull\"])\n",
    "        return BDefenseRatio*AGoalsPerGame/pullStats.iloc[a][\"avgPull\"]\n",
    "\n",
    "    def BPullSR(b,a):\n",
    "        BGoalsPerGame = againstEmpty.iloc[b][\"Scored\"]/againstEmpty.iloc[b][\"Count\"]\n",
    "        ADefenseRatio = (withEmpty.iloc[a][\"Allowed\"]/withEmpty.iloc[a][\"Count\"])/(againstEmpty[\"Allowed\"]/againstEmpty[\"Count\"]).mean()\n",
    "        if ADefenseRatio == 0:\n",
    "            ADefenseRatio = (0.1/againstEmpty.iloc[b][\"Count\"])/(againstEmpty[\"Allowed\"]/againstEmpty[\"Count\"]).mean()\n",
    "        print(\"Expected # of Goals\", ADefenseRatio*BGoalsPerGame)\n",
    "        print(\"Scoring Rate\",ADefenseRatio*BGoalsPerGame/pullStats[\"avgPull\"].mean())\n",
    "        return ADefenseRatio*BGoalsPerGame/pullStats[\"avgPull\"].mean()\n",
    "\n",
    "    def calculatePullTime(aE, bE, aP, bP):    \n",
    "        return (-np.log((-aP*bE + aE*bP) / (aP*bP + aP**2 - aP*aE - aP*bE))) / (aP + bP)\n",
    "    \n",
    "    print(\"5v5\")\n",
    "    print(\"Team A\")\n",
    "    aSR = evenSR(teamA,teamB)\n",
    "    print(\"Team B\")\n",
    "    bSR = evenSR(teamB,teamA)\n",
    "\n",
    "    print(\"\\n6v5\")\n",
    "    print(\"Team A\")\n",
    "    aPullSR = APullSR(teamA,teamB)\n",
    "    print(\"Team B\")\n",
    "    bPullSR = BPullSR(teamB,teamA)\n",
    "\n",
    "    return calculatePullTime(aSR, bSR, aPullSR, bPullSR)"
   ]
  },
  {
   "cell_type": "code",
   "execution_count": 19,
   "metadata": {},
   "outputs": [
    {
     "name": "stdout",
     "output_type": "stream",
     "text": [
      "5v5\n",
      "Team A\n",
      "Even Expected goals 2.7252747252747254\n",
      "Scoring Rate 0.05976479660690187\n",
      "Team B\n",
      "Even Expected goals 2.0732142857142857\n",
      "Scoring Rate 0.04690530058177116\n",
      "\n",
      "6v5\n",
      "Team A\n",
      "Expected # of Goals 0.3659256355010103\n",
      "Scoring Rate 0.2152503738241237\n",
      "Team B\n",
      "Expected # of Goals 0.5488884532515155\n",
      "Scoring Rate 0.3512464061256944\n",
      "\n",
      "Team  26  VS Team  15 \n",
      "Optimal Pull Time:  3.895026702326681\n"
     ]
    }
   ],
   "source": [
    "# 0 : \"ANAHEIM DUCKS\"\n",
    "# 1 : \"ARIZONA COYOTES\" \n",
    "# 2 : \"BOSTON BRUINS\"\n",
    "# 3 : \"BUFFALO SABRES\"\n",
    "# 4 : \"CALGARY FLAMES\"\n",
    "# 5 : \"CAROLINA HURRICANES\"\n",
    "# 6 : \"CHICAGO BLACKHAWKS\"\n",
    "# 7 : \"COLORADO AVALANCHE\"\n",
    "# 8 : \"COLUMBUS BLUE JACKETS\"\n",
    "# 9 : \"DALLAS STARS\"\n",
    "# 10 : \"DETROIT RED WINGS\"\n",
    "# 11 : \"EDMONTON OILERS\"\n",
    "# 12 : \"FLORIDA PANTHERS\"\n",
    "# 13 : \"LOS ANGELES KINGS\"\n",
    "# 14 : \"MINNESOTA WILD\"\n",
    "# 15 : \"MONTREAL CANADIENS\"\n",
    "# 16 : \"NASHVILLE PREDATORS\"\n",
    "# 17 : \"NEW JERSEY DEVILS\"\n",
    "# 18 : \"NEW YORK ISLANDERS\"\n",
    "# 19 : \"NEW YORK RANGERS\"\n",
    "# 20 : \"OTTAWA SENATORS\"\n",
    "# 21 : \"PHILADELPHIA FLYERS\"\n",
    "# 22 : \"PITTSBURGH PENGUINS\"\n",
    "# 23 : \"SAN JOSE SHARKS\"\n",
    "# 24 : \"ST. LOUIS BLUES\"\n",
    "# 25 : \"TAMPA BAY LIGHTNING\"\n",
    "# 26 : \"TORONTO MAPLE LEAFS\"\n",
    "# 27 : \"VANCOUVER CANUCKS\"\n",
    "# 28 : \"VEGAS GOLDEN KNIGHTS\"\n",
    "# 29 : \"WASHINGTON CAPITALS\"\n",
    "# 30: \"WINNIPEG JETS\"\n",
    "\n",
    "TeamA = 26\n",
    "TeamB = 15\n",
    "\n",
    "print(\"\\nTeam \", TeamA,\" VS Team \",  TeamB, \"\\nOptimal Pull Time: \", optimalPullTime(TeamA, TeamB))"
   ]
  },
  {
   "cell_type": "code",
   "execution_count": null,
   "metadata": {},
   "outputs": [],
   "source": [
    "# THIS IS THE BLOCK THAT CALCULATED THE AVERAGE OPTIMAL PULL TIME\n",
    "\n",
    "# leaguePullTimes = pd.DataFrame(columns=[\"matchUp\", \"pullTime\"])\n",
    "\n",
    "# for i in range(31):\n",
    "#     for j in range(31):\n",
    "#         if(i!=j):\n",
    "#             matchup = pd.DataFrame([[str(i) + \"-\" + str(j) , optimalPullTime(i,j)]], columns=[\"matchUp\", \"pullTime\"])\n",
    "#             leaguePullTimes = pd.concat([leaguePullTimes, matchup], ignore_index = True)\n",
    "\n",
    "# #setting the negatives to 0 to better contribute the league average\n",
    "# leaguePullTimes[leaguePullTimes.pullTime <= 0] = 0"
   ]
  },
  {
   "cell_type": "code",
   "execution_count": null,
   "metadata": {},
   "outputs": [],
   "source": [
    "# THIS IS WHERE THE AVERAGE AND STANDARD DEVIATION IS PRINTED\n",
    "# print(\"Mean optimal Pull Time: \", leaguePullTimes[\"pullTime\"].mean())\n",
    "# print(\"Standard devation of average Pull Time: \", np.std(leaguePullTimes[\"pullTime\"]))"
   ]
  }
 ],
 "metadata": {
  "interpreter": {
   "hash": "54be35b7545492fe69406f664037291bc0fd788343b8528f21c297f6f893cba3"
  },
  "kernelspec": {
   "display_name": "Python 3.11.2 64-bit",
   "language": "python",
   "name": "python3"
  },
  "language_info": {
   "codemirror_mode": {
    "name": "ipython",
    "version": 3
   },
   "file_extension": ".py",
   "mimetype": "text/x-python",
   "name": "python",
   "nbconvert_exporter": "python",
   "pygments_lexer": "ipython3",
   "version": "3.11.2"
  },
  "orig_nbformat": 4
 },
 "nbformat": 4,
 "nbformat_minor": 2
}
